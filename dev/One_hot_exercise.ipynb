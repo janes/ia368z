{
 "cells": [
  {
   "cell_type": "markdown",
   "metadata": {},
   "source": [
    "# Function - one-hot encoding"
   ]
  },
  {
   "cell_type": "code",
   "execution_count": 1,
   "metadata": {
    "ExecuteTime": {
     "end_time": "2017-08-08T09:10:52.154136Z",
     "start_time": "2017-08-08T09:10:52.096309Z"
    },
    "collapsed": true
   },
   "outputs": [],
   "source": [
    "import numpy as np"
   ]
  },
  {
   "cell_type": "markdown",
   "metadata": {},
   "source": [
    "## Definir entradas e saídas para os testes"
   ]
  },
  {
   "cell_type": "code",
   "execution_count": 2,
   "metadata": {
    "ExecuteTime": {
     "end_time": "2017-08-08T09:10:52.564426Z",
     "start_time": "2017-08-08T09:10:52.559551Z"
    }
   },
   "outputs": [
    {
     "name": "stdout",
     "output_type": "stream",
     "text": [
      "[2 0 3 2 1]\n"
     ]
    }
   ],
   "source": [
    "# inputs\n",
    "aa = np.array([2,0,3,2,1])\n",
    "print(aa)"
   ]
  },
  {
   "cell_type": "code",
   "execution_count": 3,
   "metadata": {
    "ExecuteTime": {
     "end_time": "2017-08-08T09:10:52.815117Z",
     "start_time": "2017-08-08T09:10:52.810084Z"
    }
   },
   "outputs": [
    {
     "name": "stdout",
     "output_type": "stream",
     "text": [
      "[[0 0 1 0]\n",
      " [1 0 0 0]\n",
      " [0 0 0 1]\n",
      " [0 0 1 0]\n",
      " [0 1 0 0]]\n"
     ]
    }
   ],
   "source": [
    "# outputs\n",
    "oo = np.array([[0,0,1,0],\n",
    "               [1,0,0,0],\n",
    "               [0,0,0,1],\n",
    "               [0,0,1,0],\n",
    "               [0,1,0,0]])\n",
    "print(oo)"
   ]
  },
  {
   "cell_type": "markdown",
   "metadata": {},
   "source": [
    "## Adiciona os testes (Código do professor)"
   ]
  },
  {
   "cell_type": "code",
   "execution_count": 4,
   "metadata": {
    "ExecuteTime": {
     "end_time": "2017-08-08T09:10:53.679615Z",
     "start_time": "2017-08-08T09:10:53.605904Z"
    },
    "collapsed": true
   },
   "outputs": [],
   "source": [
    "from jn_tester.professor.models import TestCase, TestSet\n",
    "\n",
    "def equal(x, y):\n",
    "   return 1.0 if np.sum(x - y)==0 else 0.0\n",
    "\n",
    "# Outros testes podem ser adicionados\n",
    "bb = np.array([1,1,3,2,4])\n",
    "\n",
    "oo2 = np.array([[ 0,  1,  0,  0,  0],\n",
    "                [ 0,  1,  0,  0,  0],\n",
    "                [ 0,  0,  0,  1,  0],\n",
    "                [ 0,  0,  1,  0,  0],\n",
    "                [ 0,  0,  0,  0,  1]])\n",
    "\n",
    "# Adiciona test cases\n",
    "test = TestSet()\n",
    "test.add_new_test_case(TestCase(aa, oo, assert_function=equal))\n",
    "test.add_new_test_case(TestCase(bb, oo2, assert_function=equal))\n",
    "\n",
    "# O arquivo criado 'one_hot.test' deverá ser disponibilizado aos alunos\n",
    "test.save('one_hot')"
   ]
  },
  {
   "cell_type": "code",
   "execution_count": 5,
   "metadata": {
    "ExecuteTime": {
     "end_time": "2017-08-08T09:10:54.613442Z",
     "start_time": "2017-08-08T09:10:54.610973Z"
    }
   },
   "outputs": [
    {
     "name": "stdout",
     "output_type": "stream",
     "text": [
      "[<jn_tester.professor.models.TestCase object at 0x7f792c0e4160>, <jn_tester.professor.models.TestCase object at 0x7f792c0e09b0>]\n"
     ]
    }
   ],
   "source": [
    "print(test.test_cases)"
   ]
  },
  {
   "cell_type": "markdown",
   "metadata": {},
   "source": [
    "## Código do Aluno"
   ]
  },
  {
   "cell_type": "code",
   "execution_count": 6,
   "metadata": {
    "ExecuteTime": {
     "end_time": "2017-08-08T09:10:55.688274Z",
     "start_time": "2017-08-08T09:10:55.684375Z"
    }
   },
   "outputs": [
    {
     "name": "stdout",
     "output_type": "stream",
     "text": [
      "[[ 0.  0.  1.  0.]\n",
      " [ 1.  0.  0.  0.]\n",
      " [ 0.  0.  0.  1.]\n",
      " [ 0.  0.  1.  0.]\n",
      " [ 0.  1.  0.  0.]]\n"
     ]
    }
   ],
   "source": [
    "# Try to avoid explicit loop as much as possible\n",
    "# Use only NumPy operations, no other libraries\n",
    "def one_hot(i):\n",
    "    return np.eye(np.max(i)+1)[i]\n",
    "\n",
    "print(one_hot(aa))\n"
   ]
  },
  {
   "cell_type": "code",
   "execution_count": 7,
   "metadata": {
    "ExecuteTime": {
     "end_time": "2017-08-08T09:10:56.487232Z",
     "start_time": "2017-08-08T09:10:56.083977Z"
    }
   },
   "outputs": [
    {
     "name": "stdout",
     "output_type": "stream",
     "text": [
      "\n",
      "Showing results: one_hot\n",
      "--------------------\n",
      "Final score:  100%\n",
      "1 :  [1.0/1.0] => OK\n",
      " - time:  0.061472  ms\n",
      " - memory:  90.54  Mb\n",
      "2 :  [1.0/1.0] => OK\n",
      " - time:  0.094171  ms\n",
      " - memory:  90.55  Mb\n",
      "None\n",
      "\n",
      "Showing results: one_hot\n",
      "--------------------\n",
      "Final score:  100%\n"
     ]
    },
    {
     "data": {
      "text/html": [
       "<div>\n",
       "<table border=\"1\" class=\"dataframe\">\n",
       "  <thead>\n",
       "    <tr style=\"text-align: right;\">\n",
       "      <th></th>\n",
       "      <th>Score</th>\n",
       "      <th>Time</th>\n",
       "      <th>Memory</th>\n",
       "    </tr>\n",
       "  </thead>\n",
       "  <tbody>\n",
       "    <tr>\n",
       "      <th>Test 1</th>\n",
       "      <td>100%</td>\n",
       "      <td>0.0685 ms</td>\n",
       "      <td>90.56 Mb</td>\n",
       "    </tr>\n",
       "    <tr>\n",
       "      <th>Test 2</th>\n",
       "      <td>100%</td>\n",
       "      <td>0.179412 ms</td>\n",
       "      <td>90.56 Mb</td>\n",
       "    </tr>\n",
       "  </tbody>\n",
       "</table>\n",
       "</div>"
      ],
      "text/plain": [
       "       Score         Time    Memory\n",
       "Test 1  100%    0.0685 ms  90.56 Mb\n",
       "Test 2  100%  0.179412 ms  90.56 Mb"
      ]
     },
     "metadata": {},
     "output_type": "display_data"
    }
   ],
   "source": [
    "# test\n",
    "from jn_tester.student.test import run_test, submit_test\n",
    "\n",
    "print(run_test('one_hot', fnc=one_hot))\n",
    "# or\n",
    "submit_test('one_hot', fnc=one_hot, presentation_mode='table')  # envio do código"
   ]
  },
  {
   "cell_type": "markdown",
   "metadata": {},
   "source": [
    "## Código do Professor - Visualização dos resultados"
   ]
  },
  {
   "cell_type": "code",
   "execution_count": 8,
   "metadata": {
    "ExecuteTime": {
     "end_time": "2017-08-08T09:10:59.387357Z",
     "start_time": "2017-08-08T09:10:58.056729Z"
    }
   },
   "outputs": [
    {
     "data": {
      "text/html": [
       "<table border=\"1\" class=\"dataframe\">\n",
       "  <thead>\n",
       "    <tr style=\"text-align: right;\">\n",
       "      <th>Function Ranking</th>\n",
       "      <th>Function</th>\n",
       "      <th>Author</th>\n",
       "      <th>Test 1: Score</th>\n",
       "      <th>Test 1: Time (ms)</th>\n",
       "      <th>Test 2: Score</th>\n",
       "      <th>Test 2: Time (ms)</th>\n",
       "      <th>Mean Time (ms)</th>\n",
       "      <th>Final Score</th>\n",
       "    </tr>\n",
       "  </thead>\n",
       "  <tbody>\n",
       "    <tr>\n",
       "      <td>1</td>\n",
       "      <td>one_hot</td>\n",
       "      <td>erick</td>\n",
       "      <td>1.00</td>\n",
       "      <td>0.07</td>\n",
       "      <td>1.00</td>\n",
       "      <td>0.18</td>\n",
       "      <td>0.12</td>\n",
       "      <td>1.00</td>\n",
       "    </tr>\n",
       "  </tbody>\n",
       "</table>"
      ],
      "text/plain": [
       "<IPython.core.display.HTML object>"
      ]
     },
     "metadata": {},
     "output_type": "display_data"
    }
   ],
   "source": [
    "from jn_tester.professor.tables import view_complete_table\n",
    "\n",
    "view_complete_table('one_hot', base_path='/home/**/')   # Neste caso a pasta home sera escaneada inteira para encontrar os resultados."
   ]
  },
  {
   "cell_type": "code",
   "execution_count": null,
   "metadata": {
    "collapsed": true
   },
   "outputs": [],
   "source": []
  }
 ],
 "metadata": {
  "kernelspec": {
   "display_name": "Python 3",
   "language": "python",
   "name": "python3"
  },
  "language_info": {
   "codemirror_mode": {
    "name": "ipython",
    "version": 3
   },
   "file_extension": ".py",
   "mimetype": "text/x-python",
   "name": "python",
   "nbconvert_exporter": "python",
   "pygments_lexer": "ipython3",
   "version": "3.6.1"
  },
  "toc": {
   "colors": {
    "hover_highlight": "#DAA520",
    "running_highlight": "#FF0000",
    "selected_highlight": "#FFD700"
   },
   "moveMenuLeft": true,
   "nav_menu": {
    "height": "354px",
    "width": "252px"
   },
   "navigate_menu": true,
   "number_sections": true,
   "sideBar": true,
   "threshold": 4,
   "toc_cell": false,
   "toc_section_display": "block",
   "toc_window_display": false
  }
 },
 "nbformat": 4,
 "nbformat_minor": 2
}
