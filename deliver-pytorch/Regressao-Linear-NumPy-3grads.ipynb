{
 "cells": [
  {
   "cell_type": "markdown",
   "metadata": {},
   "source": [
    "# Regressão Linear\n",
    "\n",
    "## Objetivos\n",
    "\n",
    "Os objetivos deste notebook são:\n",
    "\n",
    "* introduzir os conceitos básicos iniciais de redes neurais através da \n",
    "* otimização de um ajuste de pontos por uma reta (linear) utilizando a \n",
    "* técnica de cálculo numérico do gradiente descendente. \n",
    "\n",
    "É introduzido também:\n",
    "\n",
    "* o uso de matrizes tanto como \n",
    "    * notação matemática como \n",
    "    * forma de programação. \n",
    "\n",
    "Este notebook contém:\n",
    "* primeiros programas matriciais de redes neurais, \n",
    "* cálculo do gradiente por 3 formas\n",
    "* laço de otimização pelo gradiente descendente\n",
    "* plotagem de gráficos.\n"
   ]
  },
  {
   "cell_type": "markdown",
   "metadata": {},
   "source": [
    "## Importação dos módulos\n",
    "\n",
    "O objetivo deste exercício é utilizar apenas as funções do NumPy para o processamento numérico. Iremos precisar entretanto de dois outros pacotes para:\n",
    "\n",
    "* NumPy: Pacote Numérico do Python - é o que faz o Python ser melhor que o MATLAB\n",
    "* matplotlib: ferramentas para plotagem de gráficos e imagens\n",
    "* sklearn: Excelente pacote de \"Aprendizagem de Máquina\", aqui será usado apenas para carregar o dataset Iris\n",
    "* pandas: ferramentas de formatação e visualização de dados em forma de tabelas"
   ]
  },
  {
   "cell_type": "code",
   "execution_count": 1,
   "metadata": {
    "ExecuteTime": {
     "end_time": "2017-09-20T20:48:02.742110Z",
     "start_time": "2017-09-20T20:47:59.778566Z"
    },
    "collapsed": true
   },
   "outputs": [],
   "source": [
    "%matplotlib inline\n",
    "import matplotlib.pyplot as plt\n",
    "import numpy as np\n",
    "import pandas as pd\n",
    "from sklearn.datasets import load_iris"
   ]
  },
  {
   "cell_type": "markdown",
   "metadata": {},
   "source": [
    "## Problema de Regressão Linear\n",
    "\n",
    "O problema de ajuste de uma reta a um conjunto de pontos para verificar se existe uma previsão linear é um problema muito antigo, muito estudado e muito presente nos dias de hoje. \n",
    "\n",
    "Quando o ajuste é abordado como um problema de **otimização numérica**, ele é a base de boa parte dos **conceitos sobre redes neurais** e iremos explorá-lo aqui como uma forma de introdução às redes neurais. O modelo de regressão linear que iremos utilizar pode\n",
    "ser visto como uma rede neural de apenas uma camada e função de ativação linear."
   ]
  },
  {
   "cell_type": "markdown",
   "metadata": {},
   "source": [
    "## Conjunto de dados: Flores Íris\n",
    "\n",
    "Iremos utilizar duas propriedades do conjunto de dados das flores Íris [Wikipedia-Iris_flower_data_set](https://en.wikipedia.org/wiki/Iris_flower_data_set):\n",
    "\n",
    "* o comprimento das sépalas e \n",
    "* o comprimento da pétalas. \n",
    "\n",
    "A ideia será prever o comprimento da pétala, conhecendo-se o comprimento da sépala. Estaremos usando apenas uma propriedade, ou característica ou *feature* do objeto para que seja fácil visualizar o espaço de busca de parâmetros. \n",
    "\n",
    "Vamos utilizar as 50 amostras da variedade versicolor.\n",
    "\n",
    "![](../figures/iris_petals_sepals.png)"
   ]
  },
  {
   "cell_type": "markdown",
   "metadata": {},
   "source": [
    "## Dados: leitura e visualização\n",
    "\n",
    "O carregamento dos dados é feito pelo comando do pacote sklearn: `load_iris`."
   ]
  },
  {
   "cell_type": "code",
   "execution_count": 2,
   "metadata": {
    "ExecuteTime": {
     "end_time": "2017-09-20T20:48:02.823200Z",
     "start_time": "2017-09-20T20:48:02.745435Z"
    }
   },
   "outputs": [
    {
     "name": "stdout",
     "output_type": "stream",
     "text": [
      "<class 'sklearn.datasets.base.Bunch'>\n",
      "iris.data: (150, 4) float64 0.1 7.9\n",
      "iris.target: (150,) int64 0 2\n",
      "iris.features_name: ['sepal length (cm)', 'sepal width (cm)', 'petal length (cm)', 'petal width (cm)']\n",
      "iris.target_names: ['setosa' 'versicolor' 'virginica']\n"
     ]
    },
    {
     "data": {
      "text/html": [
       "<div>\n",
       "<table border=\"1\" class=\"dataframe\">\n",
       "  <thead>\n",
       "    <tr style=\"text-align: right;\">\n",
       "      <th></th>\n",
       "      <th>sepal length (cm)</th>\n",
       "      <th>sepal width (cm)</th>\n",
       "      <th>petal length (cm)</th>\n",
       "      <th>petal width (cm)</th>\n",
       "      <th>target</th>\n",
       "    </tr>\n",
       "  </thead>\n",
       "  <tbody>\n",
       "    <tr>\n",
       "      <th>0</th>\n",
       "      <td>5.1</td>\n",
       "      <td>3.5</td>\n",
       "      <td>1.4</td>\n",
       "      <td>0.2</td>\n",
       "      <td>0</td>\n",
       "    </tr>\n",
       "    <tr>\n",
       "      <th>1</th>\n",
       "      <td>4.9</td>\n",
       "      <td>3.0</td>\n",
       "      <td>1.4</td>\n",
       "      <td>0.2</td>\n",
       "      <td>0</td>\n",
       "    </tr>\n",
       "    <tr>\n",
       "      <th>2</th>\n",
       "      <td>4.7</td>\n",
       "      <td>3.2</td>\n",
       "      <td>1.3</td>\n",
       "      <td>0.2</td>\n",
       "      <td>0</td>\n",
       "    </tr>\n",
       "    <tr>\n",
       "      <th>3</th>\n",
       "      <td>4.6</td>\n",
       "      <td>3.1</td>\n",
       "      <td>1.5</td>\n",
       "      <td>0.2</td>\n",
       "      <td>0</td>\n",
       "    </tr>\n",
       "    <tr>\n",
       "      <th>4</th>\n",
       "      <td>5.0</td>\n",
       "      <td>3.6</td>\n",
       "      <td>1.4</td>\n",
       "      <td>0.2</td>\n",
       "      <td>0</td>\n",
       "    </tr>\n",
       "  </tbody>\n",
       "</table>\n",
       "</div>"
      ],
      "text/plain": [
       "   sepal length (cm)  sepal width (cm)  petal length (cm)  petal width (cm)  \\\n",
       "0                5.1               3.5                1.4               0.2   \n",
       "1                4.9               3.0                1.4               0.2   \n",
       "2                4.7               3.2                1.3               0.2   \n",
       "3                4.6               3.1                1.5               0.2   \n",
       "4                5.0               3.6                1.4               0.2   \n",
       "\n",
       "   target  \n",
       "0       0  \n",
       "1       0  \n",
       "2       0  \n",
       "3       0  \n",
       "4       0  "
      ]
     },
     "execution_count": 2,
     "metadata": {},
     "output_type": "execute_result"
    }
   ],
   "source": [
    "iris = load_iris()\n",
    "print(type(iris))\n",
    "print('iris.data:',iris.data.shape,iris.data.dtype,iris.data.min(),iris.data.max())\n",
    "print('iris.target:',iris.target.shape,iris.target.dtype,iris.target.min(),iris.target.max())\n",
    "#print(iris.DESCR)\n",
    "print('iris.features_name:',iris.feature_names)\n",
    "print('iris.target_names:',iris.target_names)\n",
    "\n",
    "iris_pd = pd.DataFrame(iris.data, columns=iris.feature_names)\n",
    "iris_pd['target'] = iris.target\n",
    "iris_pd.head()\n"
   ]
  },
  {
   "cell_type": "markdown",
   "metadata": {},
   "source": [
    " Iremos utilizar apenas duas informações da variedade versicolor (classe 1): \n",
    "\n",
    "* x: comprimento das sépalas,\n",
    "* y: comprimento das pétalas.\n",
    "\n",
    "Imprimimos o *shape* dos *arrays* `x` e `y`. O *shape* indica as dimensões do array. Neste caso, observe que possui apenas uma dimensão com 50 elementos cada. \n",
    "\n",
    "`x` e `y` são portanto dois arrays unidimensionais com 50 elementos cada, que são o número de amostras da variedade versicolor.\n",
    "\n",
    "Imprimimos também, a título ilustrativo estes dois vetores:"
   ]
  },
  {
   "cell_type": "code",
   "execution_count": 3,
   "metadata": {
    "ExecuteTime": {
     "end_time": "2017-09-20T20:48:02.851338Z",
     "start_time": "2017-09-20T20:48:02.825731Z"
    }
   },
   "outputs": [
    {
     "name": "stdout",
     "output_type": "stream",
     "text": [
      "x.shape: (50, 1) float64\n",
      "y.shape: (50, 1) float64\n",
      "x[:5]:\n",
      " [[ 7. ]\n",
      " [ 6.4]\n",
      " [ 6.9]\n",
      " [ 5.5]\n",
      " [ 6.5]]\n",
      "y[:5]:\n",
      " [[ 4.7]\n",
      " [ 4.5]\n",
      " [ 4.9]\n",
      " [ 4. ]\n",
      " [ 4.6]]\n"
     ]
    }
   ],
   "source": [
    "data = iris.data[iris.target==1,::2]  # comprimento das sépalas e pétalas, indices 0 e 2\n",
    "\n",
    "x = data[:,0:1]\n",
    "y = data[:,1:2]\n",
    "\n",
    "print('x.shape:',x.shape, x.dtype)\n",
    "print('y.shape:',y.shape, y.dtype)\n",
    "\n",
    "print('x[:5]:\\n', x[:5])\n",
    "print('y[:5]:\\n', y[:5])"
   ]
  },
  {
   "cell_type": "markdown",
   "metadata": {},
   "source": [
    "## Visualização dos dados `x` e `y`\n",
    "\n",
    "A visualização das amostras é feita com o matplotlib, neste caso utilizando o `scatter`:"
   ]
  },
  {
   "cell_type": "code",
   "execution_count": 4,
   "metadata": {
    "ExecuteTime": {
     "end_time": "2017-09-20T20:48:03.694905Z",
     "start_time": "2017-09-20T20:48:02.853621Z"
    }
   },
   "outputs": [
    {
     "data": {
      "image/png": "[encoded data removed]",
      "text/plain": [
       "<matplotlib.figure.Figure at 0x7f93d97e5f60>"
      ]
     },
     "metadata": {},
     "output_type": "display_data"
    }
   ],
   "source": [
    "plt.scatter(x, y)\n",
    "plt.xlabel('Comprimento sepalas')\n",
    "plt.ylabel('Comprimento petalas')\n",
    "plt.show()"
   ]
  },
  {
   "cell_type": "markdown",
   "metadata": {},
   "source": [
    "## Normalização dos dados entre 0 e 1\n",
    "\n",
    "A equação da normalização dos dados para que o resultado fique entre 0 e 1 é:\n",
    "\n",
    "$$ y = \\frac{x - x_{min}}{x_{max}-x_{min}} $$\n",
    "\n",
    "Uma forma usual sequencial de fazer esta operação de forma um pouco mais eficiente é:\n",
    "\n",
    "$$ xx = x - x_{min} \\\\\n",
    "   y = \\frac{xx}{xx_{max}} $$\n",
    "\n",
    "Desta forma é usual implementar a normalização através de uma subtração *in place* do mínimo e depois uma divisão também *in place* pelo máximo:"
   ]
  },
  {
   "cell_type": "code",
   "execution_count": 5,
   "metadata": {
    "ExecuteTime": {
     "end_time": "2017-09-20T20:48:03.703676Z",
     "start_time": "2017-09-20T20:48:03.696803Z"
    },
    "collapsed": true
   },
   "outputs": [],
   "source": [
    "x -= x.min()\n",
    "x /= x.max()    # normalização\n",
    "y -= y.min()\n",
    "y /= y.max()"
   ]
  },
  {
   "cell_type": "markdown",
   "metadata": {},
   "source": [
    "## Visualização dos dados normalizados\n"
   ]
  },
  {
   "cell_type": "code",
   "execution_count": 6,
   "metadata": {
    "ExecuteTime": {
     "end_time": "2017-09-20T20:48:04.151974Z",
     "start_time": "2017-09-20T20:48:03.705541Z"
    }
   },
   "outputs": [
    {
     "data": {
      "image/png": "[encoded data removed]",
      "text/plain": [
       "<matplotlib.figure.Figure at 0x7f93d97e5be0>"
      ]
     },
     "metadata": {},
     "output_type": "display_data"
    }
   ],
   "source": [
    "plt.scatter(x, y)\n",
    "plt.xlabel('Comprimento sepalas')\n",
    "plt.ylabel('Comprimento petalas')\n",
    "plt.show()"
   ]
  },
  {
   "cell_type": "markdown",
   "metadata": {},
   "source": [
    "## Reta de ajuste\n",
    "\n",
    "A equação da reta no plano necessita de dois parâmetros, aqui denominados $w_0$ (*bias*) e inclinação $w_1$. Veja figura:\n",
    "\n",
    "\n",
    "<img src=\"../figures/linhareta.png\", width=300pt>\n",
    "\n",
    "A reta de ajuste será dada por:\n",
    "\n",
    "$$ \\hat{y} = w_0 + w_1 x $$\n",
    "\n",
    "onde \n",
    "* $w_1$ é o coeficiente angular da reta e \n",
    "* $w_0$ é a interseção do eixo vertical quando x é igual a zero, também denominado de *bias*.\n",
    "* $x$ é a variável de entrada (comprimento das sépalas) e \n",
    "* $\\hat{y}$ é a predição (comprimento estimado das pétalas)."
   ]
  },
  {
   "attachments": {
    "RegressaoLinearNeuronio.png": {
     "image/png": "[encoded data removed]"
    }
   },
   "cell_type": "markdown",
   "metadata": {},
   "source": [
    "## Representação gráfica da equação linear via neurônio\n",
    "\n",
    "$ \\hat{y} = 1 w_0 + x_0 w_1 $\n",
    "\n",
    "Temos:\n",
    "- 1 atributo de entrada: $x_0$\n",
    "- 2 parâmetros para serem ajustados (treinados) $w_0$ e $w_1$\n",
    "- 1 classe de saída $\\hat{y}$\n",
    "\n",
    "<img src=\"attachment:RegressaoLinearNeuronio.png\", width=300pt>\n",
    "\n",
    "$$ \\mathbf{\\hat{y}} = \\mathbf{x} \\mathbf{w}  $$"
   ]
  },
  {
   "cell_type": "markdown",
   "metadata": {},
   "source": [
    "## Formulação matricial\n",
    "\n",
    "As redes neurais em geral, são formadas por muitas entradas, várias saídas e vários parâmetros. A melhor forma de se\n",
    "representar matematicamente as redes neurais são através de matrizes. Apesar desse problema ter apenas uma entrada,\n",
    "uma saída e dois parâmetros de ajustes, iremos representar na forma matricial, para que a formulação possa ser generalizada para\n",
    "várias entradas e várias saídas (e várias camadas).\n",
    "\n",
    "Em notação matricial, iremos usar a convenção de representar vetores em negritos e letras minúsculas,\n",
    "enquanto que matrizes iremos representar por letras maiúsculas em negrito.\n",
    "\n",
    "Existem dois casos de formulação matricial: \n",
    "\n",
    "1. para representar os neurônios na rede neural;\n",
    "2. utilizado no processamento de várias amostras simultaneamente. \n",
    "\n",
    "Segue a descrição para cada um dos casos:"
   ]
  },
  {
   "cell_type": "markdown",
   "metadata": {},
   "source": [
    "### Formulação matricial do neurônio\n",
    "\n",
    "* $\\mathbf{x} = \\begin{bmatrix}1 & x_0\\end{bmatrix}$ é vetor linha de uma amostra (com *bias*),\n",
    "* $\\mathbf{w} = \\begin{bmatrix} w_0 \\\\ w_1 \\end{bmatrix} $ é vetor de parâmetros.\n",
    "\n",
    "$$ \\hat{y} = 1 w_0 + x_0 w_1 $$\n",
    "\n",
    "$$ [\\hat{y}] = [1 \\ x_0] \\begin{bmatrix} w_0 \\\\ w_1 \\end{bmatrix} $$\n",
    "\n",
    "$$ \\mathbf{\\hat{y}} = \\mathbf{x} \\mathbf{w} $$"
   ]
  },
  {
   "cell_type": "markdown",
   "metadata": {},
   "source": [
    "### Formulação matricial para implementação processando $M$ amostras simultaneamente\n",
    "\n",
    "Quando temos $M$ amostras, a forma padronizada de organizar os dados de entrada é transpor as informações de cada amostra colocando-a em cada linha da\n",
    "matriz $\\mathbf{X}$:\n",
    "\n",
    "$$ \\mathbf{X} = \\begin{bmatrix}\n",
    "1 & x_0 \\\\ \n",
    "1 & x_1\\\\\n",
    "\\vdots & \\vdots \\\\ \n",
    "1 & x_{M-1}\n",
    "\\end{bmatrix} $$\n",
    "\n",
    "Desta forma, pode-se calcular o $\\hat{y}$ de todas as amostras por:\n",
    "\n",
    "$$ \\begin{matrix} \n",
    "\\begin{bmatrix}\n",
    "\\hat{y}_0\\\\ \n",
    "\\hat{y}_1\\\\\n",
    "\\\\\n",
    "\\hat{y}_{M-1} \n",
    "\\end{bmatrix} &=& \\begin{bmatrix}\n",
    "1 & x_0 \\\\ \n",
    "1 & x_1\\\\\n",
    "\\\\ \n",
    "1 & x_{M-1} \\\\ \n",
    "\\end{bmatrix}\n",
    "&\n",
    "\\begin{bmatrix}\n",
    "w_0\\\\ \n",
    "w_1\n",
    "\\end{bmatrix} \\\\\n",
    "(M,1) & & (M,2) & (2,1) \\\\\n",
    "\\end{matrix} $$\n",
    "\n",
    "Na forma matricial:\n",
    "\n",
    "$$ \\mathbf{\\hat{y}} = \\mathbf{X} \\mathbf{w} $$"
   ]
  },
  {
   "cell_type": "markdown",
   "metadata": {},
   "source": [
    "### Multiplicação Matricial no NumPy\n",
    "\n",
    "A multiplicação entre matrizes e entre matriz e vetor é implementada em \n",
    "Python/Numpy usando o operador `dot`. \n",
    "Temos duas notações principais:  \n",
    "* `X.dot(w)` ou \n",
    "* `np.dot(X,w)`. \n",
    "\n",
    "As matrizes são caracterizadas pelas suas dimensões que no NumPy são denominados\n",
    "* `shape` que para matrizes é organizado em \n",
    "* `(linhas, colunas)`. \n",
    "\n",
    "Na multiplicação $\\mathbf{X} \\mathbf{w}$, \n",
    "* `X.shape=(M,2)` e \n",
    "* `w.shape=(2,1)`, cujo resultado da multiplicação será \n",
    "* `(M,2)(2,1)->(M,1)` que é o shape do vetor columa $\\mathbf{\\hat{y}}$.\n",
    "\n",
    "**Dica:** Operações matriciais tornam o código conciso, escalável e simples, porém, é comum aparecer erros nestas operações e uma das melhores formas de se depurar um programa matricial é verificando\n",
    "as dimensões (*shape*) das matrizes e vetores em uso."
   ]
  },
  {
   "cell_type": "markdown",
   "metadata": {},
   "source": [
    "## Programação Matricial\n",
    "\n",
    "Como iremos trabalhar com várias amostras, vários parâmetros, várias características e várias classes, é mais eficiente trabalhar com vetores, matrizes e *arrays* por ser uma forma muito mais eficiente de se programar e de se processar. \n",
    "\n",
    "Talvez essa seja uma das **principais dificuldades** de programadores de linguagens \"estilo C\" onde é usual o uso de laços explícitos nos cálculos. \n",
    "\n",
    "Neste curso iremos usar o NumPy que é o pacote de *arrays* numéricos que permitem programação matricial de forma muito eficiente."
   ]
  },
  {
   "cell_type": "markdown",
   "metadata": {},
   "source": [
    "## Formulação do problema do ajuste da reta como um problema de minimização\n",
    "\n",
    "Dado um conjunto de $m$ pontos **rotulados** $(x_i,y_i)$ (conjunto de treinamento), \n",
    "queremos encontrar uma equação linear de predição do valor de $y$ dado um $x$ desconhecido. \n",
    "A equação da predição $\\hat{y}$, na forma:\n",
    "\n",
    "* $ \\hat{y} = w_0 + w_1\\ x $ \n",
    "\n",
    "deve ter seus parâmetros $w_0$ e $w_1$ escolhidos de modo que a soma do erro \n",
    "quadrático\n",
    "\n",
    "* $ \\sum (\\hat{y_i} - y_i)^2 $ entre as estimativas e o valor das amostras $i$ seja mínimo. "
   ]
  },
  {
   "cell_type": "markdown",
   "metadata": {
    "collapsed": true
   },
   "source": [
    "### Função Custo ou de Perda\n",
    "\n",
    "A função de custo depende do conjunto de treinamento ($y_i$) e dos valores de predição ($\\hat{y_i}$):\n",
    "\n",
    "$$ J(\\hat{y_i},y_i) = \\sum_{i=0}^{M-1} (\\hat{y_i} - y_i)^2 $$ .\n",
    "\n",
    "Trocando $\\hat{y_i}$ pelo valor da predição, a função de custo depende das amostras de treinamento $x_i, y_i$ e \n",
    "do parâmetro de predição $w_i$:\n",
    "\n",
    "$$ J(x_i,y_i,w_i) = \\sum_{i=0}^{M-1} ((w_0 + w_1\\ x_i) - y_i)^2 $$ \n",
    "\n",
    "Buscamos encontrar os valores de $w_i$ para que $J(x_i,y_i,w_i)$ seja mínimo no conjunto de treinamento ($x_i, y_i$)."
   ]
  },
  {
   "cell_type": "markdown",
   "metadata": {},
   "source": [
    "Em notação matricial, o cálculo do custo para $M$ amostras fica:\n",
    "\n",
    "$$ J(\\mathbf{w}) = \\left \\Vert \\hat{\\mathbf{y}} - \\mathbf{y} \\right \\|^2 = \\left \\Vert \\mathbf{X} \\mathbf{w} - \\mathbf{y} \\right \\|^2$$\n",
    "\n",
    "onde $\\left \\Vert \\textbf{e} \\right \\|^2$ é a norma do vetor $\\textbf{e}$ ao quadrado, dado por:\n",
    "$\\left \\Vert \\textbf{e} \\right \\|^2 = \\sum_{i}{\\textbf{e}_i}^2$\n",
    "\n",
    "A seguir é mostrado uma implementação matricial desta função:\n"
   ]
  },
  {
   "cell_type": "markdown",
   "metadata": {},
   "source": [
    "### compute_cost - formulação matricial\n",
    "\n",
    "Caso de apenas um $w = \\begin{bmatrix} w_0 \\\\ w_1\\end{bmatrix}$ com shape(2,1):\n",
    "\n",
    "$$ \\begin{matrix}\n",
    "e &=& \\begin{bmatrix}\n",
    "1 & x_0 \\\\ \n",
    "1 & x_1 \\\\\n",
    "1 & x_2 \\\\\n",
    "\\vdots & \\vdots \\\\\n",
    "1 & x_{M-1}\n",
    "\\end{bmatrix} &\n",
    "\\begin{bmatrix}\n",
    "w_0\\\\ \n",
    "w_1\n",
    "\\end{bmatrix} &-& \\begin{bmatrix}\n",
    "y_0\\\\ \n",
    "y_1\\\\ \n",
    "\\vdots\\\\ \n",
    "y_{M-1}\\\\ \n",
    "\\end{bmatrix} &=& \\begin{bmatrix}\n",
    "e_0\\\\ \n",
    "e_1\\\\ \n",
    "\\vdots\\\\ \n",
    "e_{M-1}\\\\ \n",
    "\\end{bmatrix}\\\\\n",
    "& & (M,2) & (2,1) & & (M,1) & & (M,1)\n",
    " \\end{matrix} $$ \n",
    "\n",
    "$$ J = \\sum_{i=0}^{M-1} e_i^2 $$"
   ]
  },
  {
   "cell_type": "markdown",
   "metadata": {},
   "source": [
    "## Minimização via Gradiente Descendente\n",
    "\n",
    "O problema então se resume em encontrar os coeficientes de $\\mathbf{w}$ que minimizem $J(\\mathbf{w})$ no conjunto de dados rotulados `(X,y)`. Existem várias formas de se realizar esta otimização. Para fazer uma analogia com as redes neurais, a otimização será obtida por método de cálculo numérico\n",
    "conhecido como \"gradiente descendente\". Como o gradiente de uma função aponta sempre para os valores mais altos da função, o método do gradiente descendente consiste em atualizar o valor de $\\mathbf{w}$ subtraindo-o proporcionalmente do gradiente, isto é, indo na direção contrária do gradiente na expectativa de que iremos encontrar valores menores."
   ]
  },
  {
   "cell_type": "markdown",
   "metadata": {},
   "source": [
    "## Determinação do Gradiente da Função de Custo\n",
    "\n",
    "O gradiente da função Custo ($\\mathbf{\\nabla{J_w}}$) para este caso onde \n",
    "$\\mathbf{w}=\\begin{bmatrix}w_0 \\\\ w_1\\end{bmatrix}$ é um vetor de derivadas partiais:\n",
    "\n",
    "$$ \\mathbf{\\nabla{J_w}} = \\begin{bmatrix} \\frac{\\partial J}{\\partial w_0} \\\\ \\frac{\\partial J}{\\partial w_1}\\end{bmatrix} $$"
   ]
  },
  {
   "cell_type": "markdown",
   "metadata": {},
   "source": [
    "### Gradiente para uma amostra\n",
    "\n",
    "Vamos inicialmente calcular o gradiente para uma única amostra e depois iremos generalizar para $M$ amostras. O custo para uma amostra é dado por:\n",
    "\n",
    "$$ J = (\\hat{y} - y)^2 = (\\begin{bmatrix} x_0 & x_1 \\end{bmatrix}\\begin{bmatrix} w_0 \\\\ w_1 \\end{bmatrix}  - y)^2\n",
    "     = (\\mathbf{xw} - y)^2$$\n",
    "     \n",
    "$$ J = (w_0 x_0 + w_1 x_1 - y)^2 $$\n",
    "\n",
    "$$ \\frac{\\partial J}{\\partial w_0} = 2 x_0 (w_0 x_0 + w_1 x_1 - y) = 2 x_0 (\\mathbf{xw} - y)$$\n",
    "$$ \\frac{\\partial J}{\\partial w_1} = 2 x_1 (w_0 x_0 + w_1 x_1 - y) = 2 x_1 (\\mathbf{xw} - y)$$\n",
    "\n",
    "$$\\begin{bmatrix} \\frac{\\partial J}{\\partial w_0} \\\\ \\frac{\\partial J}{\\partial w_1}\\end{bmatrix} =\n",
    "\\begin{bmatrix} 2 x_0 (\\mathbf{xw} - y) & 2 x_1 (\\mathbf{xw} - y)\\end{bmatrix} = 2(\\mathbf{xw} - y)\\mathbf{x}^T\n",
    "$$\n",
    "Assim, o gradiente para uma amostra é dado por:\n",
    "$$ \\mathbf{\\nabla{J_w}} = 2(\\mathbf{xw} - y)\\mathbf{x}^T $$"
   ]
  },
  {
   "cell_type": "markdown",
   "metadata": {},
   "source": [
    "### Gradiente para $M$ amostras, formulação matricial\n",
    "\n",
    "Vimos anteriormente que quando processamos com várias amostras simultaneamente, utilizamos a matrix $\\mathbf{X}$\n",
    "onde cada linha se refere a uma amostra: ($\\mathbf{x}$):\n",
    "\n",
    "$$ \\mathbf{X} = \\begin{bmatrix}\n",
    "\\longleftarrow & (\\mathbf{x}^{(0)})^T & \\longrightarrow \\\\ \n",
    "\\longleftarrow & (\\mathbf{x}^{(1)})^T & \\longrightarrow \\\\ \n",
    "  & \\vdots  & \\\\ \n",
    "\\longleftarrow & (\\mathbf{x}^{(M-1)})^T & \\longrightarrow \n",
    "\\end{bmatrix} = \\begin{bmatrix}\n",
    "x_{0,0} & x_{0,1} \\\\\n",
    "x_{1,0} & x_{1,1} \\\\\n",
    "\\vdots  & \\vdots  \\\\ \n",
    "x_{M,0} & x_{M,1} \\\\\n",
    "\\end{bmatrix} $$\n",
    "\n",
    "Assim:\n",
    "\n",
    "$$  (\\mathbf{\\nabla{J_w}}) = 2 \\mathbf{X}^T(\\mathbf{Xw} - \\mathbf{y}) $$."
   ]
  },
  {
   "cell_type": "markdown",
   "metadata": {},
   "source": [
    "### Gradiente descendente\n",
    "\n",
    "Na equação da atualização do $\\mathbf{w}$ a seguir, o fator $\\eta$ é denominado *learning rate*. Ele é um parâmetro de ajuste fundamental para o sucesso da otimização: \n",
    "\n",
    "$$ \\mathbf{w} = \\mathbf{w} − \\eta (\\mathbf{\\nabla J_w}) $$\n",
    "\n",
    "Desta forma então, calculando-se o gradiente de $J(\\mathbf{w})$ e substituindo na equação acima temos:\n",
    "\n",
    "$$ \\mathbf{w} = \\mathbf{w} − \\eta 2 (\\mathbf{X}^T(\\mathbf{X}\\mathbf{w}−\\mathbf{y})) $$\n",
    "\n",
    "Esta equação é implementada dentro da função `gradient_descent`.\n",
    "\n",
    "Observe que cada atualização dos pesos, o cálculo do gradiente leva em conta todas as amostras\n",
    "de dados que estão representados na matriz $\\mathbf{X}$ que possui $M$ linhas (amostras)."
   ]
  },
  {
   "cell_type": "markdown",
   "metadata": {},
   "source": [
    "## Laço de minimização via gradiente descendente\n",
    "\n",
    "O código da próxima célula é a parte principal deste notebook. É aqui que a minimização é feita. É aqui que dizemos que estamos fazendo o *fit*, ou o treinamento do sistema para encontrar o parâmetro $\\mathbf{W}$ que minimiza a função de perda $J$. Acompanhamos a convergência da minimização pelo valor da perda a cada iteração, plotando o vetor `J_history`.\n"
   ]
  },
  {
   "cell_type": "markdown",
   "metadata": {},
   "source": [
    "O esquema da otimização é representado pelo diagrama a seguir:\n",
    "\n",
    "<img src=\"../figures/RegressaoLinear_Otimizacao.png\",width = 600pt>\n",
    "\n",
    "e é implementado pela próxima célula de código:"
   ]
  },
  {
   "cell_type": "markdown",
   "metadata": {},
   "source": [
    "### Laço de minimização via gradiente descendente - Código"
   ]
  },
  {
   "cell_type": "markdown",
   "metadata": {},
   "source": [
    "Para fins ilustrativos, iremos calcular o gradiente por 3 métodos:\n",
    "1. Derivadas parciais, forma analítica\n",
    "2. Diferenças finitas\n",
    "3. Back propagation"
   ]
  },
  {
   "cell_type": "code",
   "execution_count": 7,
   "metadata": {
    "ExecuteTime": {
     "end_time": "2017-09-20T20:48:04.308533Z",
     "start_time": "2017-09-20T20:48:04.153847Z"
    }
   },
   "outputs": [
    {
     "name": "stdout",
     "output_type": "stream",
     "text": [
      "0 20.4535147392\n",
      "W_grad:\n",
      " [[-60.        ]\n",
      " [-33.66439909]]\n",
      "W_grad_df:\n",
      " [[-60.        ]\n",
      " [-33.66439909]]\n",
      "grad_W_bp:\n",
      " [[-60.        ]\n",
      " [-33.66439909]]\n",
      "1 16.0170154506\n",
      "W_grad:\n",
      " [[-52.33922298]\n",
      " [-29.68576476]]\n",
      "W_grad_df:\n",
      " [[-52.33922298]\n",
      " [-29.68576476]]\n",
      "grad_W_bp:\n",
      " [[-52.33922298]\n",
      " [-29.68576476]]\n",
      "2 12.6233295174\n",
      "W_grad:\n",
      " [[-45.64080295]\n",
      " [-26.20544961]]\n",
      "W_grad_df:\n",
      " [[-45.64080295]\n",
      " [-26.20544961]]\n",
      "grad_W_bp:\n",
      " [[-45.64080295]\n",
      " [-26.20544961]]\n",
      "3 10.0270693526\n",
      "W_grad:\n",
      " [[-39.78392048]\n",
      " [-23.16089898]]\n",
      "W_grad_df:\n",
      " [[-39.78392048]\n",
      " [-23.16089898]]\n",
      "grad_W_bp:\n",
      " [[-39.78392048]\n",
      " [-23.16089898]]\n",
      "4 8.04059282237\n",
      "W_grad:\n",
      " [[-34.66292408]\n",
      " [-20.49741143]]\n",
      "W_grad_df:\n",
      " [[-34.66292408]\n",
      " [-20.49741143]]\n",
      "grad_W_bp:\n",
      " [[-34.66292408]\n",
      " [-20.49741143]]\n",
      "5 6.52041436312\n",
      "W_grad:\n",
      " [[-30.18542604]\n",
      " [-18.16715285]]\n",
      "W_grad_df:\n",
      " [[-30.18542604]\n",
      " [-18.16715285]]\n",
      "grad_W_bp:\n",
      " [[-30.18542604]\n",
      " [-18.16715285]]\n",
      "6 5.35681388674\n",
      "W_grad:\n",
      " [[-26.27063723]\n",
      " [-16.12829431]]\n",
      "W_grad_df:\n",
      " [[-26.27063723]\n",
      " [-16.12829431]]\n",
      "grad_W_bp:\n",
      " [[-26.27063723]\n",
      " [-16.12829431]]\n",
      "7 4.46589095884\n",
      "W_grad:\n",
      " [[-22.84791099]\n",
      " [-14.34425815]]\n",
      "W_grad_df:\n",
      " [[-22.84791099]\n",
      " [-14.34425815]]\n",
      "grad_W_bp:\n",
      " [[-22.84791099]\n",
      " [-14.34425815]]\n",
      "8 3.78348881862\n",
      "W_grad:\n",
      " [[-19.85546982]\n",
      " [-12.78305876]]\n",
      "W_grad_df:\n",
      " [[-19.85546982]\n",
      " [-12.78305876]]\n",
      "grad_W_bp:\n",
      " [[-19.85546982]\n",
      " [-12.78305876]]\n",
      "9 3.26054822187\n",
      "W_grad:\n",
      " [[-17.23929194]\n",
      " [-11.41672602]]\n",
      "W_grad_df:\n",
      " [[-17.23929194]\n",
      " [-11.41672602]]\n",
      "grad_W_bp:\n",
      " [[-17.23929194]\n",
      " [-11.41672602]]\n",
      "W final: [[ 0.34882561]\n",
      " [ 0.20605341]]\n"
     ]
    }
   ],
   "source": [
    "# Parâmetros do gradiente descendente: número de iterações e taxa de aprendizagem\n",
    "n_epochs = 10\n",
    "lr = 0.001\n",
    "\n",
    "n_samples = y.shape[0]\n",
    "\n",
    "#Montagem da matriz X agora com os elementos 1 na primeira coluna\n",
    "X_bias = np.hstack([np.ones(shape=(n_samples,1)), x])\n",
    "W = np.zeros(shape=(2,1))\n",
    "\n",
    "loss_history = []\n",
    "# Laço de otimização do gradiente descendente\n",
    "for i in range(n_epochs):\n",
    "    y_pred = X_bias.dot(W)  # Forward - predição\n",
    "\n",
    "    loss = np.square(y_pred - y).sum() # Loss: Soma dos erros quadráticos\n",
    "    loss_history.append(loss)\n",
    "    print(i,loss)\n",
    "    \n",
    "    # cálculo do gradiente pelas derivadas parciais\n",
    "    W_grad = (2.0) * (X_bias.T).dot(X_bias.dot(W) - y)\n",
    "    \n",
    "    # cálculo do gradiente pelas diferenças finitas\n",
    "    eps = 1e-5\n",
    "    W_grad_df = np.zeros((2,1))\n",
    "    for j in range(W_grad_df.shape[0]):\n",
    "        We = np.zeros_like(W_grad_df)\n",
    "        We[j,0] += eps\n",
    "        loss_1 = np.square(X_bias.dot(W+We) - y).sum()\n",
    "        loss_2 = np.square(X_bias.dot(W-We) - y).sum()\n",
    "        W_grad_df[j,0] = (loss_1 - loss_2)/(2*eps)\n",
    "        \n",
    "    # Cálculo do gradiente pelo back propagation\n",
    "    grad_y_pred = 2.0 * (y_pred - y)\n",
    "    grad_W_bp = X_bias.T.dot(grad_y_pred)\n",
    "\n",
    "    print('W_grad:\\n',W_grad)\n",
    "    print('W_grad_df:\\n',W_grad_df)\n",
    "    print('grad_W_bp:\\n',grad_W_bp)\n",
    "    \n",
    "    # gradiente descendente\n",
    "    W = W - lr * W_grad\n",
    "    \n",
    "print('W final:',W)"
   ]
  },
  {
   "cell_type": "markdown",
   "metadata": {},
   "source": [
    "### Plot da curva de minimização de J com o número de iterações"
   ]
  },
  {
   "cell_type": "code",
   "execution_count": 8,
   "metadata": {
    "ExecuteTime": {
     "end_time": "2017-09-20T20:48:05.081649Z",
     "start_time": "2017-09-20T20:48:04.329810Z"
    }
   },
   "outputs": [
    {
     "data": {
      "image/png": "[encoded data removed]",
      "text/plain": [
       "<matplotlib.figure.Figure at 0x7f93d6e95c18>"
      ]
     },
     "metadata": {},
     "output_type": "display_data"
    }
   ],
   "source": [
    "plt.plot(loss_history) # mostrando log para amplificar valores baixos\n",
    "plt.show()"
   ]
  },
  {
   "cell_type": "markdown",
   "metadata": {},
   "source": [
    "## Comparando com a solução analítica\n",
    "\n",
    "A solução analítica deste problema é dada por:\n",
    "\n",
    "$$  \\mathbf{w} =(\\mathbf{X}^T \\mathbf{X})^{−1}\\mathbf{X}^T \\mathbf{y} $$"
   ]
  },
  {
   "cell_type": "code",
   "execution_count": 9,
   "metadata": {
    "ExecuteTime": {
     "end_time": "2017-09-20T20:48:05.110973Z",
     "start_time": "2017-09-20T20:48:05.083999Z"
    }
   },
   "outputs": [
    {
     "name": "stdout",
     "output_type": "stream",
     "text": [
      "[[ 0.26134159]\n",
      " [ 0.68646976]]\n"
     ]
    }
   ],
   "source": [
    "w_opt = (np.linalg.inv((X_bias.T).dot(X_bias)).dot(X_bias.T)).dot(y)\n",
    "print(w_opt)"
   ]
  },
  {
   "cell_type": "markdown",
   "metadata": {},
   "source": [
    "## Plotagem da reta de predição (solução analítica e solução via gradiente descendente)"
   ]
  },
  {
   "cell_type": "code",
   "execution_count": 10,
   "metadata": {
    "ExecuteTime": {
     "end_time": "2017-09-20T20:48:06.047686Z",
     "start_time": "2017-09-20T20:48:05.120688Z"
    },
    "scrolled": true
   },
   "outputs": [
    {
     "data": {
      "image/png": "[encoded data removed]",
      "text/plain": [
       "<matplotlib.figure.Figure at 0x7f93d6dcb240>"
      ]
     },
     "metadata": {},
     "output_type": "display_data"
    }
   ],
   "source": [
    "plt.scatter(x, y, marker='o', c='b')\n",
    "plt.title('Iris dataset')\n",
    "plt.xlabel('x')\n",
    "plt.ylabel('y')\n",
    "\n",
    "# Plotagem da reta utilizando os parâmetros ótimos encontrados no gradiente descendente\n",
    "\n",
    "X_all = np.linspace(x.min(),x.max(),100).reshape(100,1)\n",
    "X_all_bias = np.hstack([np.ones((100,1)),X_all])\n",
    "result = X_all_bias.dot(W)  # Predição via minimização gradiente descendente\n",
    "plt.plot(X_all, result, c='k')\n",
    "result_opt = X_all_bias.dot(w_opt)  # Predição do valor analítico\n",
    "plt.plot(X_all, result_opt,c='r')\n",
    "plt.show()"
   ]
  },
  {
   "cell_type": "markdown",
   "metadata": {},
   "source": [
    "## Conclusões desse experimento\n",
    "\n",
    "Quais são as principais conclusões que podemos tirar deste experimento?\n",
    "\n"
   ]
  }
 ],
 "metadata": {
  "kernelspec": {
   "display_name": "Python 3",
   "language": "python",
   "name": "python3"
  },
  "language_info": {
   "codemirror_mode": {
    "name": "ipython",
    "version": 3
   },
   "file_extension": ".py",
   "mimetype": "text/x-python",
   "name": "python",
   "nbconvert_exporter": "python",
   "pygments_lexer": "ipython3",
   "version": "3.6.0"
  },
  "toc": {
   "nav_menu": {
    "height": "387px",
    "width": "252px"
   },
   "number_sections": true,
   "sideBar": true,
   "skip_h1_title": false,
   "toc_cell": false,
   "toc_position": {},
   "toc_section_display": "block",
   "toc_window_display": false
  },
  "varInspector": {
   "cols": {
    "lenName": 16,
    "lenType": 16,
    "lenVar": 40
   },
   "kernels_config": {
    "python": {
     "delete_cmd_postfix": "",
     "delete_cmd_prefix": "del ",
     "library": "var_list.py",
     "varRefreshCmd": "print(var_dic_list())"
    },
    "r": {
     "delete_cmd_postfix": ") ",
     "delete_cmd_prefix": "rm(",
     "library": "var_list.r",
     "varRefreshCmd": "cat(var_dic_list()) "
    }
   },
   "oldHeight": 411,
   "position": {
    "height": "433px",
    "left": "1740px",
    "right": "20px",
    "top": "168px",
    "width": "657px"
   },
   "types_to_exclude": [
    "module",
    "function",
    "builtin_function_or_method",
    "instance",
    "_Feature"
   ],
   "varInspector_section_display": "block",
   "window_display": false
  }
 },
 "nbformat": 4,
 "nbformat_minor": 1
}
