{
 "cells": [
  {
   "cell_type": "markdown",
   "metadata": {},
   "source": [
    "# Indice "
   ]
  },
  {
   "cell_type": "markdown",
   "metadata": {
    "collapsed": true
   },
   "source": [
    "- [Regressao-Linear-NumPy-3grads.ipynb](Regressao-Linear-NumPy-3grads.ipynb)\n",
    "    - Equações da regressão linear\n",
    "    - Programação NumPy do Gradiente descendente utilizando 3 formas\n",
    "      de calcular o gradiente\n",
    "- [linear_regression.ipynb](linear_regression.ipynb)\n",
    "    - Implementação PyTorch da regressão linear pétalas da iris\n",
    "- [data_loading_tutorial.ipynb](data_loading_tutorial.ipynb)\n",
    "    - Exemplo de uso do dataset e dataload do PyTorch\n",
    "- [transfer_learning_tutorial.ipynb](transfer_learning_tutorial.ipynb)\n",
    "    - Transfer Learning usando o PyTorch\n",
    "    - Feitas algumas melhorias para acompanhar o treinamento: \n",
    "        - imprimir de forma verbo\n",
    "        - salvar e recuperar o modelo\n",
    "        - poder interromper o laço de minimização pelo stop\n"
   ]
  },
  {
   "cell_type": "code",
   "execution_count": null,
   "metadata": {
    "collapsed": true
   },
   "outputs": [],
   "source": []
  }
 ],
 "metadata": {
  "kernelspec": {
   "display_name": "Python 3",
   "language": "python",
   "name": "python3"
  },
  "language_info": {
   "codemirror_mode": {
    "name": "ipython",
    "version": 3
   },
   "file_extension": ".py",
   "mimetype": "text/x-python",
   "name": "python",
   "nbconvert_exporter": "python",
   "pygments_lexer": "ipython3",
   "version": "3.6.0"
  },
  "toc": {
   "nav_menu": {},
   "number_sections": true,
   "sideBar": true,
   "skip_h1_title": false,
   "toc_cell": false,
   "toc_position": {},
   "toc_section_display": "block",
   "toc_window_display": false
  }
 },
 "nbformat": 4,
 "nbformat_minor": 2
}
