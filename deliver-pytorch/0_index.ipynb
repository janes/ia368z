{
 "cells": [
  {
   "cell_type": "markdown",
   "metadata": {},
   "source": [
    "# Indice "
   ]
  },
  {
   "cell_type": "markdown",
   "metadata": {
    "collapsed": true
   },
   "source": [
    "- [Regressao-Linear-NumPy-3grads.ipynb](Regressao-Linear-NumPy-3grads.ipynb)\n",
    "    - Equações da regressão linear\n",
    "    - Programação NumPy do Gradiente descendente utilizando 3 formas\n",
    "      de calcular o gradiente\n",
    "- [linear_regression.ipynb](linear_regression.ipynb)\n",
    "    - Implementação PyTorch da regressão linear pétalas da iris\n",
    "- [data_loading_tutorial.ipynb](data_loading_tutorial.ipynb)\n",
    "    - Exemplo de uso do dataset e dataload do PyTorch\n",
    "- [transfer_learning_tutorial.ipynb](transfer_learning_tutorial.ipynb)\n",
    "    - Transfer Learning usando o PyTorch\n",
    "    - Feitas algumas melhorias para acompanhar o treinamento: \n",
    "        - imprimir de forma verbo\n",
    "        - salvar e recuperar o modelo\n",
    "        - poder interromper o laço de minimização pelo stop\n"
   ]
  },
  {
   "cell_type": "markdown",
   "metadata": {
    "ExecuteTime": {
     "end_time": "2017-09-26T15:42:09.572207",
     "start_time": "2017-09-26T15:42:09.467400"
    },
    "collapsed": true
   },
   "source": [
    "- PyTorch_Variaveis_Gradientes.ipynb\n",
    "- Explorando-Convolucao-no-PyTorch.ipynb\n",
    "- Introducao-CNN-PyTorch.ipynb"
   ]
  },
  {
   "cell_type": "code",
   "execution_count": null,
   "metadata": {
    "collapsed": true
   },
   "outputs": [],
   "source": []
  }
 ],
 "metadata": {
  "kernelspec": {
   "display_name": "Python 3",
   "language": "python",
   "name": "python3"
  },
  "language_info": {
   "codemirror_mode": {
    "name": "ipython",
    "version": 3
   },
   "file_extension": ".py",
   "mimetype": "text/x-python",
   "name": "python",
   "nbconvert_exporter": "python",
   "pygments_lexer": "ipython3",
   "version": "3.6.0"
  },
  "toc": {
   "colors": {
    "hover_highlight": "#DAA520",
    "running_highlight": "#FF0000",
    "selected_highlight": "#FFD700"
   },
   "moveMenuLeft": true,
   "nav_menu": {},
   "navigate_menu": true,
   "number_sections": true,
   "sideBar": true,
   "skip_h1_title": false,
   "threshold": 4,
   "toc_cell": false,
   "toc_position": {},
   "toc_section_display": "block",
   "toc_window_display": false
  },
  "varInspector": {
   "cols": {
    "lenName": 16,
    "lenType": 16,
    "lenVar": 40
   },
   "kernels_config": {
    "python": {
     "delete_cmd_postfix": "",
     "delete_cmd_prefix": "del ",
     "library": "var_list.py",
     "varRefreshCmd": "print(var_dic_list())"
    },
    "r": {
     "delete_cmd_postfix": ") ",
     "delete_cmd_prefix": "rm(",
     "library": "var_list.r",
     "varRefreshCmd": "cat(var_dic_list()) "
    }
   },
   "types_to_exclude": [
    "module",
    "function",
    "builtin_function_or_method",
    "instance",
    "_Feature"
   ],
   "window_display": false
  }
 },
 "nbformat": 4,
 "nbformat_minor": 2
}
