{
 "cells": [
  {
   "cell_type": "markdown",
   "metadata": {},
   "source": [
    "# Índice"
   ]
  },
  {
   "cell_type": "markdown",
   "metadata": {},
   "source": [
    "## week 1 Apresentação do curso"
   ]
  },
  {
   "cell_type": "markdown",
   "metadata": {},
   "source": [
    "## Week 2 Regressão Linear"
   ]
  },
  {
   "cell_type": "markdown",
   "metadata": {},
   "source": [
    "- [Regressao Linear](Regressao-Linear.ipynb)\n",
    "- [Softmax](softmax.ipynb)\n",
    "- [Regr Logistica Softmax Iris Keras fronteira dinâmica](Regressao-Logistica-Softmax-Iris-2D-Keras-Fronteira-Dinamica.ipynb)\n",
    "- [Regr Logística Softmax Iris Keras](Regressao-Logistica-Softmax-Iris-2D-Keras.ipynb)\n",
    "- [Regr Logística Softmax Iris Matricial](Regressao-Logistica-Softmax-Iris-2D-matricial.ipynb)\n",
    "- [Regr Logística Softmax MNIST Keras](Regressao-Logistica-Softmax-MNIST-Keras.ipynb)\n",
    "- [Regr Logística Softmax MNIST Matricial](Regressao-Logistica-Softmax-MNIST-matricial.ipynb)"
   ]
  },
  {
   "cell_type": "markdown",
   "metadata": {},
   "source": [
    "## Week 3 Redes Neurais"
   ]
  },
  {
   "cell_type": "markdown",
   "metadata": {},
   "source": [
    "- [Boston Housing Dataset](boston_housing.ipynb)\n",
    "- [Regularization Keras](Regularization.ipynb)\n",
    "- [Model Selection](model_selection.ipynb)\n",
    "- [Activations](Activations.ipynb)\n",
    "- [Densas-2: Hidden Layer](Densas-2.ipynb)\n",
    "- [MNIST neural-net hidden layer](neural-net-mnist.ipynb)"
   ]
  },
  {
   "cell_type": "markdown",
   "metadata": {},
   "source": [
    "## Week 4 Embeddings"
   ]
  },
  {
   "cell_type": "markdown",
   "metadata": {},
   "source": [
    "- [Sistema Recomendação](SistemaRecomendacao.ipynb)\n",
    "- [MovieLens Dataset](MovieLens_dataset.ipynb)\n",
    "- [Embedding - Basics](embedding-basics.ipynb)\n",
    "- [Overfitting Regularization](overfitting_regularization.ipynb)\n",
    "- [Rossmann Sales Prediction](rossmann_sales_prediction_kaggle_embedding.ipynb)"
   ]
  },
  {
   "cell_type": "markdown",
   "metadata": {
    "collapsed": true
   },
   "source": [
    "## Week 5 Redes Convolucionais"
   ]
  },
  {
   "cell_type": "markdown",
   "metadata": {},
   "source": [
    "- Introdução:\n",
    "    - [Explorando-Convolucao-no-Keras-usando-TensorFlow](Explorando-Convolucao-no-Keras-usando-TensorFlow.ipynb)\n",
    "    - [Introducao-CNN-Keras](Introducao-CNN-Keras.ipynb)\n",
    "\n",
    "- Exemplos iniciais:\n",
    "    - [cifar10-CNN-features](cifar10-CNN-features.ipynb)\n",
    "    - [keras-lenet-mnist](keras-lenet-mnist.ipynb)\n",
    "    \n",
    "\n",
    "- Redes ganhadoras\n",
    "    - [Models_VGG19](Models_VGG19.ipynb)\n",
    "    - [Models_InceptionV3](Models_InceptionV3.ipynb)\n",
    "    - [Models_ResNet50](Models_ResNet50.ipynb)\n",
    "\n",
    "- Otimizadores do Gradiente\n",
    "    - [Keras-optimizers](Keras-optimizers.ipynb)\n",
    "\n",
    "- Batch normalization\n",
    "    - [batch_norm_basics](batch_norm_basics.ipynb)\n",
    "    - [batch_norm_mnist_conv](batch_norm_mnist_conv.ipynb)\n",
    "    - [batch_norm_mnist_ioffe](batch_norm_mnist_ioffe.ipynb)\n"
   ]
  }
 ],
 "metadata": {
  "kernelspec": {
   "display_name": "Python 3",
   "language": "python",
   "name": "python3"
  },
  "language_info": {
   "codemirror_mode": {
    "name": "ipython",
    "version": 3
   },
   "file_extension": ".py",
   "mimetype": "text/x-python",
   "name": "python",
   "nbconvert_exporter": "python",
   "pygments_lexer": "ipython3",
   "version": "3.6.0"
  },
  "toc": {
   "colors": {
    "hover_highlight": "#DAA520",
    "running_highlight": "#FF0000",
    "selected_highlight": "#FFD700"
   },
   "moveMenuLeft": true,
   "nav_menu": {
    "height": "102px",
    "width": "252px"
   },
   "navigate_menu": true,
   "number_sections": true,
   "sideBar": true,
   "threshold": 4,
   "toc_cell": false,
   "toc_section_display": "block",
   "toc_window_display": false
  }
 },
 "nbformat": 4,
 "nbformat_minor": 2
}
