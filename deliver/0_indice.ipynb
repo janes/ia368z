{
 "cells": [
  {
   "cell_type": "markdown",
   "metadata": {},
   "source": [
    "# Índice"
   ]
  },
  {
   "cell_type": "markdown",
   "metadata": {},
   "source": [
    "## week 1 Apresentação do curso"
   ]
  },
  {
   "cell_type": "markdown",
   "metadata": {},
   "source": [
    "## Week 2 Regressão Linear"
   ]
  },
  {
   "cell_type": "markdown",
   "metadata": {},
   "source": [
    "- [Regressao Linear](Regressao-Linear.ipynb)\n",
    "- [Softmax](softmax.ipynb)\n",
    "- [Regr Logistica Softmax Iris Keras fronteira dinâmica](Regressao-Logistica-Softmax-Iris-2D-Keras-Fronteira-Dinamica.ipynb)\n",
    "- [Regr Logística Softmax Iris Keras](Regressao-Logistica-Softmax-Iris-2D-Keras.ipynb)\n",
    "- [Regr Logística Softmax Iris Matricial](Regressao-Logistica-Softmax-Iris-2D-matricial.ipynb)\n",
    "- [Regr Logística Softmax MNIST Keras](Regressao-Logistica-Softmax-MNIST-Keras.ipynb)\n",
    "- [Regr Logística Softmax MNIST Matricial](Regressao-Logistica-Softmax-MNIST-matricial.ipynb)"
   ]
  },
  {
   "cell_type": "markdown",
   "metadata": {},
   "source": [
    "## Week 3 Redes Neurais"
   ]
  },
  {
   "cell_type": "markdown",
   "metadata": {},
   "source": [
    "- [Boston Housing Dataset](boston_housing.ipynb)\n",
    "- [Regularization Keras](Regularization.ipynb)\n",
    "- [Model Selection](model_selection.ipynb)\n",
    "- [Activations](Activations.ipynb)\n",
    "- [Densas-2: Hidden Layer](Densas-2.ipynb)\n",
    "- [MNIST neural-net hidden layer](neural-net-mnist.ipynb)"
   ]
  },
  {
   "cell_type": "markdown",
   "metadata": {},
   "source": [
    "## Week 4 Embeddings"
   ]
  },
  {
   "cell_type": "markdown",
   "metadata": {},
   "source": [
    "- [Sistema Recomendação](SistemaRecomendacao.ipynb)\n",
    "- [MovieLens Dataset](MovieLens_dataset.ipynb)\n",
    "- [Embedding - Basics](embedding-basics.ipynb)\n",
    "- [Overfitting Regularization](overfitting_regularization.ipynb)\n",
    "- [Rossmann Sales Prediction](rossmann_sales_prediction_kaggle_embedding.ipynb)"
   ]
  },
  {
   "cell_type": "code",
   "execution_count": null,
   "metadata": {
    "collapsed": true
   },
   "outputs": [],
   "source": []
  }
 ],
 "metadata": {
  "kernelspec": {
   "display_name": "Python 3",
   "language": "python",
   "name": "python3"
  },
  "language_info": {
   "codemirror_mode": {
    "name": "ipython",
    "version": 3
   },
   "file_extension": ".py",
   "mimetype": "text/x-python",
   "name": "python",
   "nbconvert_exporter": "python",
   "pygments_lexer": "ipython3",
   "version": "3.6.0"
  },
  "toc": {
   "colors": {
    "hover_highlight": "#DAA520",
    "running_highlight": "#FF0000",
    "selected_highlight": "#FFD700"
   },
   "moveMenuLeft": true,
   "nav_menu": {
    "height": "102px",
    "width": "252px"
   },
   "navigate_menu": true,
   "number_sections": true,
   "sideBar": true,
   "threshold": 4,
   "toc_cell": false,
   "toc_section_display": "block",
   "toc_window_display": false
  }
 },
 "nbformat": 4,
 "nbformat_minor": 2
}
