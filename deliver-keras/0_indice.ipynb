{
 "cells": [
  {
   "cell_type": "markdown",
   "metadata": {},
   "source": [
    "# Índice"
   ]
  },
  {
   "cell_type": "markdown",
   "metadata": {
    "heading_collapsed": true
   },
   "source": [
    "## week 1 Apresentação do curso"
   ]
  },
  {
   "cell_type": "markdown",
   "metadata": {
    "heading_collapsed": true
   },
   "source": [
    "## Week 2 Regressão Linear"
   ]
  },
  {
   "cell_type": "markdown",
   "metadata": {
    "hidden": true
   },
   "source": [
    "- [Regressao Linear](Regressao-Linear.ipynb)\n",
    "- [Softmax](softmax.ipynb)\n",
    "- [Regr Logistica Softmax Iris Keras fronteira dinâmica](Regressao-Logistica-Softmax-Iris-2D-Keras-Fronteira-Dinamica.ipynb)\n",
    "- [Regr Logística Softmax Iris Keras](Regressao-Logistica-Softmax-Iris-2D-Keras.ipynb)\n",
    "- [Regr Logística Softmax Iris Matricial](Regressao-Logistica-Softmax-Iris-2D-matricial.ipynb)\n",
    "- [Regr Logística Softmax MNIST Keras](Regressao-Logistica-Softmax-MNIST-Keras.ipynb)\n",
    "- [Regr Logística Softmax MNIST Matricial](Regressao-Logistica-Softmax-MNIST-matricial.ipynb)"
   ]
  },
  {
   "cell_type": "markdown",
   "metadata": {
    "heading_collapsed": true
   },
   "source": [
    "## Week 3 Redes Neurais"
   ]
  },
  {
   "cell_type": "markdown",
   "metadata": {
    "hidden": true
   },
   "source": [
    "- [Boston Housing Dataset](boston_housing.ipynb)\n",
    "- [Regularization Keras](Regularization.ipynb)\n",
    "- [Model Selection](model_selection.ipynb)\n",
    "- [Activations](Activations.ipynb)\n",
    "- [Densas-2: Hidden Layer](Densas-2.ipynb)\n",
    "- [MNIST neural-net hidden layer](neural-net-mnist.ipynb)"
   ]
  },
  {
   "cell_type": "markdown",
   "metadata": {
    "heading_collapsed": true
   },
   "source": [
    "## Week 4 Embeddings"
   ]
  },
  {
   "cell_type": "markdown",
   "metadata": {
    "hidden": true
   },
   "source": [
    "- [Sistema Recomendação](SistemaRecomendacao.ipynb)\n",
    "- [MovieLens Dataset](MovieLens_dataset.ipynb)\n",
    "- [Embedding - Basics](embedding-basics.ipynb)\n",
    "- [Overfitting Regularization](overfitting_regularization.ipynb)\n",
    "- [Rossmann Sales Prediction](rossmann_sales_prediction_kaggle_embedding.ipynb)"
   ]
  },
  {
   "cell_type": "markdown",
   "metadata": {
    "collapsed": true,
    "heading_collapsed": true
   },
   "source": [
    "## Week 5 Redes Convolucionais"
   ]
  },
  {
   "cell_type": "markdown",
   "metadata": {
    "hidden": true
   },
   "source": [
    "- Introdução:\n",
    "    - [Explorando-Convolucao-no-Keras-usando-TensorFlow](Explorando-Convolucao-no-Keras-usando-TensorFlow.ipynb)\n",
    "    - [Introducao-CNN-Keras](Introducao-CNN-Keras.ipynb)\n",
    "\n",
    "- Exemplos iniciais:\n",
    "    - [cifar10-CNN-features](cifar10-CNN-features.ipynb)\n",
    "    - [keras-lenet-mnist](keras-lenet-mnist.ipynb)\n",
    "    \n",
    "\n",
    "- Redes ganhadoras\n",
    "    - [Models_VGG19](Models_VGG19.ipynb)\n",
    "    - [Models_InceptionV3](Models_InceptionV3.ipynb)\n",
    "    - [Models_ResNet50](Models_ResNet50.ipynb)\n",
    "\n",
    "- Otimizadores do Gradiente\n",
    "    - [Keras-optimizers](Keras-optimizers.ipynb)\n",
    "\n",
    "- Batch normalization\n",
    "    - [batch_norm_basics](batch_norm_basics.ipynb)\n",
    "    - [batch_norm_mnist_conv](batch_norm_mnist_conv.ipynb)\n",
    "    - [batch_norm_mnist_ioffe](batch_norm_mnist_ioffe.ipynb)\n"
   ]
  },
  {
   "cell_type": "markdown",
   "metadata": {
    "heading_collapsed": true
   },
   "source": [
    "## Week 6 Transferência de Conhecimento"
   ]
  },
  {
   "cell_type": "markdown",
   "metadata": {
    "hidden": true
   },
   "source": [
    "- Aumento sintético de dados:\n",
    "    - NB: [cats-and-dogs-1](cats-and-dogs-1.ipynb)\n",
    "\n",
    "- Transferência de conhecimento:\n",
    "\n",
    " - Treinando apenas o classificador (rede densa)\n",
    "     - NB: [cats-and-dogs-2](cats-and-dogs-2.ipynb)\n",
    " - Fine-Tunning:\n",
    "     - Nb: [cats-and-dogs-3](cats-and-dogs-3.ipynb)"
   ]
  },
  {
   "cell_type": "markdown",
   "metadata": {
    "ExecuteTime": {
     "end_time": "2017-09-26T15:28:11.978916",
     "start_time": "2017-09-26T15:28:11.976149"
    },
    "collapsed": true,
    "heading_collapsed": true
   },
   "source": [
    "## Week 9 Autocodificadores e Totalmente convolucional"
   ]
  },
  {
   "cell_type": "markdown",
   "metadata": {
    "hidden": true
   },
   "source": [
    "- Autocodificador\n",
    "    - [DenseAutoencoder.ipynb](DenseAutoencoder.ipynb)\n",
    "- Autocodificador Convolucional\n",
    "    - [ConvolutionalAutoencoder.ipynb](ConvolutionalAutoencoder.ipynb)\n",
    "- Filtrando ruido com autocodificador\n",
    "    - [FiltrandoRuidoAutoencoder.ipynb](FiltrandoRuidoAutoencoder.ipynb)\n",
    "- Convertendo uma rede para ser totalmente convolucional\n",
    "    - [fully_convolutional.ipynb](fully_convolutional.ipynb)\n",
    "- Convertendo uma rede para ser totalmente convolucional (caso numérico)\n",
    "    - [fully_convolutional_numerico.ipynb](fully_convolutional_numerico.ipynb)\n"
   ]
  },
  {
   "cell_type": "code",
   "execution_count": null,
   "metadata": {
    "collapsed": true,
    "hidden": true
   },
   "outputs": [],
   "source": []
  }
 ],
 "metadata": {
  "kernelspec": {
   "display_name": "Python 3",
   "language": "python",
   "name": "python3"
  },
  "language_info": {
   "codemirror_mode": {
    "name": "ipython",
    "version": 3
   },
   "file_extension": ".py",
   "mimetype": "text/x-python",
   "name": "python",
   "nbconvert_exporter": "python",
   "pygments_lexer": "ipython3",
   "version": "3.6.0"
  },
  "toc": {
   "colors": {
    "hover_highlight": "#DAA520",
    "running_highlight": "#FF0000",
    "selected_highlight": "#FFD700"
   },
   "moveMenuLeft": true,
   "nav_menu": {
    "height": "102px",
    "width": "252px"
   },
   "navigate_menu": true,
   "number_sections": true,
   "sideBar": true,
   "threshold": 4,
   "toc_cell": false,
   "toc_section_display": "block",
   "toc_window_display": false,
   "widenNotebook": false
  },
  "varInspector": {
   "cols": {
    "lenName": 16,
    "lenType": 16,
    "lenVar": 40
   },
   "kernels_config": {
    "python": {
     "delete_cmd_postfix": "",
     "delete_cmd_prefix": "del ",
     "library": "var_list.py",
     "varRefreshCmd": "print(var_dic_list())"
    },
    "r": {
     "delete_cmd_postfix": ") ",
     "delete_cmd_prefix": "rm(",
     "library": "var_list.r",
     "varRefreshCmd": "cat(var_dic_list()) "
    }
   },
   "types_to_exclude": [
    "module",
    "function",
    "builtin_function_or_method",
    "instance",
    "_Feature"
   ],
   "window_display": false
  }
 },
 "nbformat": 4,
 "nbformat_minor": 2
}
