{
 "cells": [
  {
   "cell_type": "markdown",
   "metadata": {},
   "source": [
    "# Learning Pytorch by Examples"
   ]
  },
  {
   "cell_type": "markdown",
   "metadata": {
    "ExecuteTime": {
     "end_time": "2017-09-13T22:10:35.831770Z",
     "start_time": "2017-09-13T22:10:35.536039Z"
    }
   },
   "source": [
    "- [two_layer_net_numpy.ipynb](two_layer_net_numpy.ipynb)\n",
    "- [two_layer_net_tensor.ipynb](two_layer_net_tensor.ipynb)\n",
    "- [two_layer_net_autograd.ipynb](two_layer_net_autograd.ipynb)\n",
    "- [two_layer_net_custom_function.ipynb](two_layer_net_custom_function.ipynb)\n",
    "- [tf_two_layer_net.ipynb](tf_two_layer_net.ipynb)\n",
    "- [two_layer_net_nn.ipynb](two_layer_net_nn.ipynb)\n",
    "- [two_layer_net_optim.ipynb](two_layer_net_optim.ipynb)\n",
    "- [two_layer_net_module.ipynb](two_layer_net_module.ipynb)\n",
    "- [dynamic_net.ipynb](dynamic_net.ipynb)"
   ]
  },
  {
   "cell_type": "code",
   "execution_count": null,
   "metadata": {
    "collapsed": true
   },
   "outputs": [],
   "source": []
  }
 ],
 "metadata": {
  "kernelspec": {
   "display_name": "Python 3",
   "language": "python",
   "name": "python3"
  },
  "language_info": {
   "codemirror_mode": {
    "name": "ipython",
    "version": 3
   },
   "file_extension": ".py",
   "mimetype": "text/x-python",
   "name": "python",
   "nbconvert_exporter": "python",
   "pygments_lexer": "ipython3",
   "version": "3.6.0"
  },
  "toc": {
   "colors": {
    "hover_highlight": "#DAA520",
    "navigate_num": "#000000",
    "navigate_text": "#333333",
    "running_highlight": "#FF0000",
    "selected_highlight": "#FFD700",
    "sidebar_border": "#EEEEEE",
    "wrapper_background": "#FFFFFF"
   },
   "moveMenuLeft": true,
   "nav_menu": {
    "height": "30px",
    "width": "252px"
   },
   "navigate_menu": true,
   "number_sections": true,
   "sideBar": true,
   "threshold": 4,
   "toc_cell": false,
   "toc_section_display": "block",
   "toc_window_display": false,
   "widenNotebook": false
  }
 },
 "nbformat": 4,
 "nbformat_minor": 2
}
